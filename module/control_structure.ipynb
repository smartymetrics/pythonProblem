{
 "cells": [
  {
   "cell_type": "markdown",
   "id": "03daa85f",
   "metadata": {},
   "source": [
    "# 1. LOOPS (Iteration-based problems)"
   ]
  },
  {
   "cell_type": "markdown",
   "id": "dda9c696",
   "metadata": {},
   "source": [
    "## Problem 1\n",
    "### Daily Gas Fee Average\n",
    " Description: Calculate the average gas fee from a list of daily Ethereum gas fees.\n",
    " Input: List of gas fees (e.g., [30, 40, 35, 50, 45])\n",
    " Output: Average gas fee (e.g., 40.0)\n"
   ]
  },
  {
   "cell_type": "code",
   "execution_count": 3,
   "id": "c745e0fb",
   "metadata": {},
   "outputs": [
    {
     "name": "stdout",
     "output_type": "stream",
     "text": [
      "Average: 40.0\n"
     ]
    }
   ],
   "source": [
    "gas = [30, 40, 35, 50, 45]\n",
    "total = 0\n",
    "num = len(gas)\n",
    "for j in gas:\n",
    "    total += j\n",
    "print(f'Average: {total/num}')"
   ]
  },
  {
   "cell_type": "markdown",
   "id": "fac68322",
   "metadata": {},
   "source": [
    "## Problem 2\n",
    "### Highest Daily Transaction Count\n",
    " Description: Find the day with the highest number of transactions on a blockchain.\n",
    " Input: List of daily transaction counts (e.g., [1200, 1400, 1350, 1600, 1100])\n",
    " Output: Day with the highest transaction count (e.g., Day 4)\n"
   ]
  },
  {
   "cell_type": "code",
   "execution_count": 19,
   "id": "24e38d2b",
   "metadata": {},
   "outputs": [
    {
     "name": "stdout",
     "output_type": "stream",
     "text": [
      "Day with maximum transaction is: Day 4, having 1600 number of transactions\n"
     ]
    }
   ],
   "source": [
    "transactions = [1200, 1400, 1350, 1600, 1100]\n",
    "max_transactions = 0\n",
    "day = 0\n",
    "for i in transactions:\n",
    "    day += 1\n",
    "    current_day_tx = i\n",
    "    if current_day_tx > max_transactions:\n",
    "        max_transactions = current_day_tx\n",
    "        day_with_tx = day \n",
    "print(f'Day with maximum transaction is: Day {day_with_tx}, having {max_transactions} number of transactions')"
   ]
  },
  {
   "cell_type": "markdown",
   "id": "b44e9f8e",
   "metadata": {},
   "source": [
    "## Problem 3\n",
    "### Find Token Min/Max Price\n",
    " Description: Determine the lowest and highest price of a token over a week.\n",
    " Input: List of prices (e.g., [2.1, 2.5, 2.0, 2.8, 2.6])\n",
    " Output: Min: 2.0, Max: 2.8\n"
   ]
  },
  {
   "cell_type": "code",
   "execution_count": 29,
   "id": "bdb0cbd7",
   "metadata": {},
   "outputs": [
    {
     "name": "stdout",
     "output_type": "stream",
     "text": [
      "Min: 2.0, Max: 2.8\n"
     ]
    }
   ],
   "source": [
    "prices = [2.1, 2.5, 2.0, 2.8, 2.6]\n",
    "max_price = 0\n",
    "min_price = 30\n",
    "\n",
    "for j in prices:\n",
    "    current_price = j\n",
    "    if current_price > max_price:\n",
    "        max_price = current_price\n",
    "    elif current_price < min_price:\n",
    "        min_price = current_price\n",
    "print(f'Min: {min_price}, Max: {max_price}')"
   ]
  },
  {
   "cell_type": "markdown",
   "id": "b9fe763d",
   "metadata": {},
   "source": [
    "## Problem 4\n",
    "### Simple Moving Average for Token Price\n",
    " Description: Compute the simple moving average of a token’s price for a given window.\n",
    " Input: Prices (e.g., [1.0, 1.2, 1.3, 1.4, 1.6]), Window size (e.g., 3)\n",
    " Output: List of moving averages (e.g., [1.17, 1.3, 1.43])"
   ]
  },
  {
   "cell_type": "code",
   "execution_count": 57,
   "id": "4ef16f3c",
   "metadata": {},
   "outputs": [
    {
     "name": "stdout",
     "output_type": "stream",
     "text": [
      "Prices: [1.0, 1.2, 1.3, 1.4, 1.6]\n",
      "Window Size: 3\n",
      "Moving Averages: [1.17, 1.3, 1.43]\n"
     ]
    }
   ],
   "source": [
    "# Input: Prices and Window size\n",
    "prices = [1.0, 1.2, 1.3, 1.4, 1.6]\n",
    "window_size = 3\n",
    "moving_averages = [] # intilize the list\n",
    "i = 0\n",
    "while i <= len(prices) - window_size:\n",
    "    current_window_sum = 0 # Reset sum for each new window\n",
    "    for j in range(window_size):    # calculate sum of elements within the current window\n",
    "        current_window_sum += prices[i + j]      \n",
    "    window_average = current_window_sum / window_size # Calculate the average for the current window      \n",
    "    moving_averages.append(round(window_average, 2))\n",
    "    i += 1 # Move to the next window        \n",
    "# Output the result\n",
    "print(f\"Prices: {prices}\")\n",
    "print(f\"Window Size: {window_size}\")\n",
    "print(f\"Moving Averages: {moving_averages}\")"
   ]
  },
  {
   "cell_type": "markdown",
   "id": "3b9b3f2c",
   "metadata": {},
   "source": [
    "## Problem 5\n",
    "### Count Profitable Days on DEX\n",
    " Description: Count the number of days a trader had a positive return on a DEX.\n",
    " Input: List of daily PnL (e.g., [0.03, -0.02, 0.01, 0.04, -0.01])\n",
    " Output: Number of profitable days (e.g., 3 days)\n"
   ]
  },
  {
   "cell_type": "code",
   "execution_count": 33,
   "id": "ff795d89",
   "metadata": {},
   "outputs": [
    {
     "name": "stdout",
     "output_type": "stream",
     "text": [
      "Number of profitable days: 3 days\n"
     ]
    }
   ],
   "source": [
    "pnl = [0.03, -0.02, 0.01, 0.04, -0.01]\n",
    "count = 0\n",
    "for i in pnl:\n",
    "    if i > 0:\n",
    "        count += 1\n",
    "print('Number of profitable days:', count, 'days')"
   ]
  },
  {
   "cell_type": "markdown",
   "id": "6a4598f1",
   "metadata": {},
   "source": [
    "## Problem 6\n",
    "### Average Number of Tokens Held\n",
    " Description: Calculate the average number of tokens held across wallets.\n",
    " Input: List of token holdings per wallet (e.g., [100, 200, 150, 300])\n",
    " Output: Average tokens held (e.g., 187.5)"
   ]
  },
  {
   "cell_type": "code",
   "execution_count": 34,
   "id": "59893eaa",
   "metadata": {},
   "outputs": [
    {
     "name": "stdout",
     "output_type": "stream",
     "text": [
      "Averga tokens held: 187.5\n"
     ]
    }
   ],
   "source": [
    "wallets = [100, 200, 150, 300]\n",
    "holders = len(wallets)\n",
    "sum = 0\n",
    "\n",
    "for i in wallets:\n",
    "    sum += i\n",
    "print('Averga tokens held:', sum/holders)"
   ]
  },
  {
   "cell_type": "markdown",
   "id": "a2964f5b",
   "metadata": {},
   "source": [
    "## Problem 7\n",
    "### Wallets Above Holding Threshold\n",
    " Description: Count the number of wallets holding more than 100 tokens.\n",
    " Input: List of holdings (e.g., [50, 150, 120, 80, 200])\n",
    " Output: Number of wallets above threshold (e.g., 3 wallets)"
   ]
  },
  {
   "cell_type": "code",
   "execution_count": 35,
   "id": "17a30eef",
   "metadata": {},
   "outputs": [
    {
     "name": "stdout",
     "output_type": "stream",
     "text": [
      "Number of wallets above threshold: 3 wallets\n"
     ]
    }
   ],
   "source": [
    "holders = [50, 150, 120, 80, 200]\n",
    "count = 0\n",
    "\n",
    "for i in holders:\n",
    "    if i > 100:\n",
    "        count += 1\n",
    "print('Number of wallets above threshold:',count,'wallets')"
   ]
  },
  {
   "cell_type": "markdown",
   "id": "dd4091b5",
   "metadata": {},
   "source": [
    "## Problem 8\n",
    "### Total Gas Spent by Wallets\n",
    " Description: Calculate total gas used by multiple wallets across transactions.\n",
    " Input: List of gas used per wallet (e.g., [21000, 50000, 32000])\n",
    " Output: Total gas used (e.g., 103000)"
   ]
  },
  {
   "cell_type": "code",
   "execution_count": 1,
   "id": "f6be778b",
   "metadata": {},
   "outputs": [
    {
     "name": "stdout",
     "output_type": "stream",
     "text": [
      "Total gas used: 103000\n"
     ]
    }
   ],
   "source": [
    "gas = [21000, 50000, 32000]\n",
    "total = 0\n",
    "for i in gas:\n",
    "    total += i\n",
    "print(f'Total gas used: {total}')"
   ]
  },
  {
   "cell_type": "markdown",
   "id": "6b94de33",
   "metadata": {},
   "source": [
    "## Problem 9\n",
    "### Cumulative Token Airdrop\n",
    " Description: Calculate the total tokens distributed in an airdrop across multiple addresses.\n",
    " Input: List of airdrop amounts (e.g., [50, 75, 100, 25])\n",
    " Output: Total tokens distributed (e.g., 250)"
   ]
  },
  {
   "cell_type": "code",
   "execution_count": 2,
   "id": "022f2cbc",
   "metadata": {},
   "outputs": [
    {
     "name": "stdout",
     "output_type": "stream",
     "text": [
      "Total tokens distributed: 250\n"
     ]
    }
   ],
   "source": [
    "drop = [50, 75, 100, 25]\n",
    "total = 0\n",
    "for k in drop:\n",
    "    total += k\n",
    "print(f'Total tokens distributed: {total}')"
   ]
  },
  {
   "cell_type": "markdown",
   "id": "dd2fe77b",
   "metadata": {},
   "source": [
    "## Problem 10\n",
    "### Average Bridge Fee Across Chains\n",
    " Description: Find the average fee users pay when bridging tokens across chains.\n",
    " Input: List of fees (e.g., [1.2, 0.8, 1.0, 1.5])\n",
    " Output: Average fee (e.g., 1.125)"
   ]
  },
  {
   "cell_type": "code",
   "execution_count": 4,
   "id": "580bc24f",
   "metadata": {},
   "outputs": [
    {
     "name": "stdout",
     "output_type": "stream",
     "text": [
      "Average fee: 1.125\n"
     ]
    }
   ],
   "source": [
    "fee = [1.2, 0.8, 1.0, 1.5]\n",
    "num = len(fee)\n",
    "fees = 0\n",
    "\n",
    "for k in fee:\n",
    "    fees += k\n",
    "print('Average fee:', fees/num)\n"
   ]
  },
  {
   "cell_type": "markdown",
   "id": "1a9f817d",
   "metadata": {},
   "source": [
    "# 2. CONDITIONAL STATEMENTS (Decision-making problems)"
   ]
  },
  {
   "cell_type": "markdown",
   "id": "eb7c89ce",
   "metadata": {},
   "source": [
    "## Problem 11\n",
    "### Token Price Classification\n",
    " Description: Classify a token’s price movement as “Bullish” if it increased, “Bearish” if decreased.\n",
    " Input: Previous price (e.g., 2.0), Current price (e.g., 2.3)\n",
    " Output: Bullish"
   ]
  },
  {
   "cell_type": "code",
   "execution_count": 8,
   "id": "fb4b8067",
   "metadata": {},
   "outputs": [
    {
     "name": "stdout",
     "output_type": "stream",
     "text": [
      "Bullish\n"
     ]
    }
   ],
   "source": [
    "prev_price = 2.0\n",
    "cur_price = 2.3\n",
    "\n",
    "if cur_price > prev_price:\n",
    "    print('Bullish')\n",
    "else:\n",
    "    print('Bearis')"
   ]
  },
  {
   "cell_type": "markdown",
   "id": "8a22be03",
   "metadata": {},
   "source": [
    "## Problem 12\n",
    "### Gas Fee Alert System\n",
    " Description: Alert if Ethereum gas fee exceeds a given threshold (e.g., 100 Gwei).\n",
    " Input: Gas fee (e.g., 120)\n",
    " Output: \"High gas fee alert!\""
   ]
  },
  {
   "cell_type": "code",
   "execution_count": 11,
   "id": "5d193e52",
   "metadata": {},
   "outputs": [
    {
     "name": "stdout",
     "output_type": "stream",
     "text": [
      "High gas fee alert!\n"
     ]
    }
   ],
   "source": [
    "gas_fee = 120\n",
    "if gas_fee > 100:\n",
    "    print('High gas fee alert!')"
   ]
  },
  {
   "cell_type": "markdown",
   "id": "62aacb73",
   "metadata": {},
   "source": [
    "## Problem 13\n",
    "### Detect Whale Wallet\n",
    " Description: Identify if a wallet is a whale based on token balance (>10,000 tokens).\n",
    " Input: Token balance (e.g., 15,000)\n",
    " Output: Whale wallet"
   ]
  },
  {
   "cell_type": "code",
   "execution_count": 12,
   "id": "0bd91506",
   "metadata": {},
   "outputs": [
    {
     "name": "stdout",
     "output_type": "stream",
     "text": [
      "Whale wallet\n"
     ]
    }
   ],
   "source": [
    "balance = 15000\n",
    "if balance > 1000:\n",
    "    print('Whale wallet')\n",
    "else:\n",
    "    print('Not a whale')"
   ]
  },
  {
   "cell_type": "markdown",
   "id": "30545ad0",
   "metadata": {},
   "source": [
    "## Problem 14\n",
    "### Token Transfer Flag\n",
    " Description: Flag a transaction as “Suspicious” if the amount is above 1 million tokens.\n",
    " Input: Transfer amount (e.g., 1,200,000)\n",
    " Output: Suspicious"
   ]
  },
  {
   "cell_type": "code",
   "execution_count": 13,
   "id": "4632117c",
   "metadata": {},
   "outputs": [
    {
     "name": "stdout",
     "output_type": "stream",
     "text": [
      "Suspicious\n"
     ]
    }
   ],
   "source": [
    "tx = 1200000\n",
    "if tx > 1000000:\n",
    "    print('Suspicious')"
   ]
  },
  {
   "cell_type": "markdown",
   "id": "e17cf7f9",
   "metadata": {},
   "source": [
    "## Problem 15\n",
    "### DEX Slippage Warning\n",
    " Description: Warn users if the slippage is greater than 5%.\n",
    " Input: Slippage percentage (e.g., 6.5)\n",
    " Output: \"High slippage detected\""
   ]
  },
  {
   "cell_type": "code",
   "execution_count": 14,
   "id": "54d943cf",
   "metadata": {},
   "outputs": [
    {
     "name": "stdout",
     "output_type": "stream",
     "text": [
      "High slippage detected\n"
     ]
    }
   ],
   "source": [
    "slip = 6.5\n",
    "if slip/100 > 5/100:\n",
    "    print('High slippage detected')"
   ]
  },
  {
   "cell_type": "markdown",
   "id": "9ba12510",
   "metadata": {},
   "source": [
    "## Problem 16\n",
    "### NFT Mint Status Check\n",
    " Description: Check if an NFT is sold out or available for mint.\n",
    " Input: Total supply (e.g., 10,000), Minted count (e.g., 10,000)\n",
    " Output: Sold Out"
   ]
  },
  {
   "cell_type": "code",
   "execution_count": 15,
   "id": "d07dc483",
   "metadata": {},
   "outputs": [
    {
     "name": "stdout",
     "output_type": "stream",
     "text": [
      "Sold Out\n"
     ]
    }
   ],
   "source": [
    "mint_cnt = 10000\n",
    "if mint_cnt == 10000:\n",
    "    print('Sold Out')"
   ]
  },
  {
   "cell_type": "markdown",
   "id": "bff9b6e3",
   "metadata": {},
   "source": [
    "## Problem 17\n",
    "### Stablecoin Health Check\n",
    " Description: Determine if a stablecoin is depegged (if price deviates from $1 by more than ±5%).\n",
    " Input: Stablecoin price (e.g., 0.93)\n",
    " Output: Depegged"
   ]
  },
  {
   "cell_type": "code",
   "execution_count": 32,
   "id": "04b28e05",
   "metadata": {},
   "outputs": [
    {
     "name": "stdout",
     "output_type": "stream",
     "text": [
      "Depegged\n"
     ]
    }
   ],
   "source": [
    "price_dep = 0.93\n",
    "price = 1\n",
    "\n",
    "if price_dep > (5/100*price)+price or price_dep < price-(5/100*price):\n",
    "    print('Depegged')\n",
    "else:\n",
    "    print('Not Depegged')\n"
   ]
  },
  {
   "cell_type": "markdown",
   "id": "2e70c15a",
   "metadata": {},
   "source": [
    "## Problem 18\n",
    "### Reward Eligibility\n",
    " Description: Check if a user qualifies for staking rewards (must stake ≥ 500 tokens).\n",
    " Input: Tokens staked (e.g., 300)\n",
    " Output: Not eligible"
   ]
  },
  {
   "cell_type": "code",
   "execution_count": 29,
   "id": "2d7f97f8",
   "metadata": {},
   "outputs": [
    {
     "name": "stdout",
     "output_type": "stream",
     "text": [
      "Not eligible\n"
     ]
    }
   ],
   "source": [
    "stkd = 300\n",
    "if stkd >= 500:\n",
    "    print('Eligible')\n",
    "else:\n",
    "    print('Not eligible')"
   ]
  },
  {
   "cell_type": "markdown",
   "id": "74be6bfd",
   "metadata": {},
   "source": [
    "## Problem 19\n",
    "### Airdrop Eligibility\n",
    " Description: Check if a wallet is eligible for airdrop (must hold a specific token and have at least 5 transactions).\n",
    " Input: Holdings (e.g., 100), Number of transactions (e.g., 6)\n",
    " Output: Eligible"
   ]
  },
  {
   "cell_type": "code",
   "execution_count": 34,
   "id": "d09bcbf0",
   "metadata": {},
   "outputs": [
    {
     "name": "stdout",
     "output_type": "stream",
     "text": [
      "Eligible\n"
     ]
    }
   ],
   "source": [
    "hold = True\n",
    "tx = 6\n",
    "\n",
    "if hold and tx > 5:\n",
    "    print('Eligible')\n",
    "else:\n",
    "    print('Not eligible')\n"
   ]
  },
  {
   "cell_type": "markdown",
   "id": "aaf776df",
   "metadata": {},
   "source": [
    "## Problem 20\n",
    "### Transaction Fee Efficiency\n",
    " Description: Flag if a transaction fee is greater than 5% of transaction amount.\n",
    " Input: Fee (e.g., 3), Transaction amount (e.g., 50)\n",
    " Output: Efficient"
   ]
  },
  {
   "cell_type": "code",
   "execution_count": 42,
   "id": "9eead79a",
   "metadata": {},
   "outputs": [
    {
     "name": "stdout",
     "output_type": "stream",
     "text": [
      "Efficient\n"
     ]
    }
   ],
   "source": [
    "amount = 50\n",
    "fee = 3\n",
    "\n",
    "if fee > amount*(5/100):\n",
    "    print('Efficient')\n",
    "else:\n",
    "    print('Not efficient')\n",
    "\n",
    "# print(amount*(5/100))"
   ]
  }
 ],
 "metadata": {
  "kernelspec": {
   "display_name": "problem",
   "language": "python",
   "name": "python3"
  },
  "language_info": {
   "codemirror_mode": {
    "name": "ipython",
    "version": 3
   },
   "file_extension": ".py",
   "mimetype": "text/x-python",
   "name": "python",
   "nbconvert_exporter": "python",
   "pygments_lexer": "ipython3",
   "version": "3.10.7"
  }
 },
 "nbformat": 4,
 "nbformat_minor": 5
}
