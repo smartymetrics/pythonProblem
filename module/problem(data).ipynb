{
 "cells": [
  {
   "cell_type": "markdown",
   "id": "6511f5d5",
   "metadata": {},
   "source": [
    "# Problem 1: Cryptocurrency Token Data\n",
    "This data structure represents information about different cryptocurrency tokens listed on a decentralized exchange (DEX).\n"
   ]
  },
  {
   "cell_type": "code",
   "execution_count": 202,
   "id": "c99c027a",
   "metadata": {},
   "outputs": [],
   "source": [
    "crypto_tokens = [\n",
    "    {\n",
    "        \"name\": \"Token A\",\n",
    "        \"symbol\": \"TKA\",\n",
    "        \"blockchain\": \"Ethereum\",\n",
    "        \"current_price_usd\": 100.0,\n",
    "        \"transaction_history\": [\n",
    "            {\n",
    "                \"date\": \"2024-01-10\",\n",
    "                \"prices\": {\n",
    "                    \"open\": 98.0,\n",
    "                    \"close\": 100.0,\n",
    "                    \"high\": 101.0,\n",
    "                    \"low\": 97.0\n",
    "                },\n",
    "                \"volume\": 12000\n",
    "            },\n",
    "            {\n",
    "                \"date\": \"2024-01-09\",\n",
    "                \"prices\": {\n",
    "                    \"open\": 97.0,\n",
    "                    \"close\": 98.0,\n",
    "                    \"high\": 99.0,\n",
    "                    \"low\": 96.0\n",
    "                },\n",
    "                \"volume\": 15000\n",
    "            }\n",
    "        ],\n",
    "        \"supported_chains\": [\"Ethereum\", \"Polygon\"]\n",
    "    },\n",
    "    {\n",
    "        \"name\": \"Token B\",\n",
    "        \"symbol\": \"TKB\",\n",
    "        \"blockchain\": \"Binance Smart Chain\",\n",
    "        \"current_price_usd\": 200.0,\n",
    "        \"transaction_history\": [\n",
    "            {\n",
    "                \"date\": \"2024-01-10\",\n",
    "                \"prices\": {\n",
    "                    \"open\": 198.0,\n",
    "                    \"close\": 200.0,\n",
    "                    \"high\": 202.0,\n",
    "                    \"low\": 196.0\n",
    "                },\n",
    "                \"volume\": 18000\n",
    "            },\n",
    "            {\n",
    "                \"date\": \"2024-01-09\",\n",
    "                \"prices\": {\n",
    "                    \"open\": 196.0,\n",
    "                    \"close\": 198.0,\n",
    "                    \"high\": 199.0,\n",
    "                    \"low\": 195.0\n",
    "                },\n",
    "                \"volume\": 17000\n",
    "            }\n",
    "        ],\n",
    "        \"supported_chains\": [\"Binance Smart Chain\", \"Avalanche\"]\n",
    "    },\n",
    "    {\n",
    "        \"name\": \"Token C\",\n",
    "        \"symbol\": \"TKC\",\n",
    "        \"blockchain\": \"Solana\",\n",
    "        \"current_price_usd\": 300.0,\n",
    "        \"transaction_history\": [\n",
    "            {\n",
    "                \"date\": \"2024-01-10\",\n",
    "                \"prices\": {\n",
    "                    \"open\": 295.0,\n",
    "                    \"close\": 300.0,\n",
    "                    \"high\": 302.0,\n",
    "                    \"low\": 294.0\n",
    "                },\n",
    "                \"volume\": 22000\n",
    "            },\n",
    "            {\n",
    "                \"date\": \"2024-01-09\",\n",
    "                \"prices\": {\n",
    "                    \"open\": 294.0,\n",
    "                    \"close\": 295.0,\n",
    "                    \"high\": 296.0,\n",
    "                    \"low\": 293.0\n",
    "                },\n",
    "                \"volume\": 21000\n",
    "            }\n",
    "        ],\n",
    "        \"supported_chains\": [\"Solana\", \"Fantom\"]\n",
    "    }\n",
    "]\n"
   ]
  },
  {
   "cell_type": "markdown",
   "id": "3a910e12",
   "metadata": {},
   "source": [
    "## Solution"
   ]
  },
  {
   "cell_type": "code",
   "execution_count": 58,
   "id": "003eeff0",
   "metadata": {},
   "outputs": [
    {
     "name": "stdout",
     "output_type": "stream",
     "text": [
      "200.0\n"
     ]
    }
   ],
   "source": [
    "# Q1: Read Data  \n",
    "# Task: Display the current price of \"Token B\".\n",
    "print(crypto_tokens[1]['current_price_usd'])"
   ]
  },
  {
   "cell_type": "code",
   "execution_count": 203,
   "id": "ce356db4",
   "metadata": {},
   "outputs": [
    {
     "data": {
      "text/plain": [
       "{'name': 'Token D',\n",
       " 'symbol': 'AKU',\n",
       " 'blockchain': 'Solana',\n",
       " 'current_price_usd': 0.001,\n",
       " 'transaction_history': [{'date': '2024-01-10',\n",
       "   'prices': {'open': 0.01, 'close': 0.02, 'high': 0.03, 'low': 0.01},\n",
       "   'volume': 12000},\n",
       "  {'date': '2024-01-09',\n",
       "   'prices': {'open': 0.02, 'close': 0.03, 'high': 0.035, 'low': 0.015},\n",
       "   'volume': 15000}],\n",
       " 'supported_chains': ['Solana', 'Sei']}"
      ]
     },
     "execution_count": 203,
     "metadata": {},
     "output_type": "execute_result"
    }
   ],
   "source": [
    "# <!-- Q2: Write Data  \n",
    "# Task: Add a new token \"Token D\" with some initial data to the `crypto_tokens` list. -->\n",
    "crypto_tokens.append(\n",
    "    {\n",
    "        \"name\": \"Token D\",\n",
    "        \"symbol\": \"AKU\",\n",
    "        \"blockchain\": \"Solana\",\n",
    "        \"current_price_usd\": 0.001,\n",
    "        \"transaction_history\": [\n",
    "            {\n",
    "                \"date\": \"2024-01-10\",\n",
    "                \"prices\": {\n",
    "                    \"open\": 0.01,\n",
    "                    \"close\": 0.02,\n",
    "                    \"high\": 0.03,\n",
    "                    \"low\": 0.01\n",
    "                },\n",
    "                \"volume\": 12000\n",
    "            },\n",
    "            {\n",
    "                \"date\": \"2024-01-09\",\n",
    "                \"prices\": {\n",
    "                    \"open\": 0.02,\n",
    "                    \"close\": 0.03,\n",
    "                    \"high\": 0.035,\n",
    "                    \"low\": 0.015\n",
    "                },\n",
    "                \"volume\": 15000\n",
    "            }\n",
    "        ],\n",
    "        \"supported_chains\": [\"Solana\", \"Sei\"]\n",
    "    }\n",
    ")\n",
    "\n",
    "crypto_tokens[3]\n"
   ]
  },
  {
   "cell_type": "code",
   "execution_count": 204,
   "id": "a2235c7f",
   "metadata": {},
   "outputs": [
    {
     "name": "stdout",
     "output_type": "stream",
     "text": [
      "[{'date': '2024-01-10', 'prices': {'open': 98.0, 'close': 100.0, 'high': 101.0, 'low': 97.0}, 'volume': 12000}]\n"
     ]
    }
   ],
   "source": [
    "\n",
    "# Q4: Delete Data  \n",
    "# Task: Remove the transaction history for \"Token A\" on \"2024-01-09\".\n",
    "crypto_tokens[0]['transaction_history'].pop(1)\n",
    "\n",
    "print(crypto_tokens[0]['transaction_history'])\n",
    "\n"
   ]
  },
  {
   "cell_type": "code",
   "execution_count": 71,
   "id": "b592b690",
   "metadata": {},
   "outputs": [
    {
     "name": "stdout",
     "output_type": "stream",
     "text": [
      "200.0\n"
     ]
    }
   ],
   "source": [
    "\n",
    "# Q5: Read Nested Data  \n",
    "# Task: Display the closing price of \"Token B\" on \"2024-01-10\".\n",
    "print(crypto_tokens[1]['transaction_history'][0]['prices']['close'])\n"
   ]
  },
  {
   "cell_type": "code",
   "execution_count": null,
   "id": "8f0a49de",
   "metadata": {},
   "outputs": [
    {
     "name": "stdout",
     "output_type": "stream",
     "text": [
      "98.1\n"
     ]
    }
   ],
   "source": [
    "\n",
    "# Q6: Update Nested Data  \n",
    "# Task: Change the opening price of \"Token A\" on \"2024-01-10\" to 99.0.\n",
    "\n",
    "crypto_tokens[0]['transaction_history'][0]['prices']['open'] = 98.1"
   ]
  },
  {
   "cell_type": "code",
   "execution_count": 208,
   "id": "c07b0a3c",
   "metadata": {},
   "outputs": [
    {
     "name": "stdout",
     "output_type": "stream",
     "text": [
      "[{'date': '2024-01-10', 'prices': {'open': 295.0, 'close': 300.0, 'high': 302.0, 'low': 294.0}, 'volume': 22000}, {'date': '2024-01-09', 'prices': {'open': 294.0, 'close': 295.0, 'high': 296.0, 'low': 293.0}, 'volume': 21000}, {'date': '2024-01-11', 'prices': {'open': 301.0, 'close': 305.7, 'high': 307.0, 'low': 298.0}, 'volume': 23000}]\n"
     ]
    }
   ],
   "source": [
    "# Q7: Add Nested Data  \n",
    "# Task: Add a new transaction history entry for \"Token C\" on \"2024-01-11\".\n",
    "\n",
    "# assign dict value to the new_transaction varible\n",
    "new_transaction = {\n",
    "    \"date\": \"2024-01-11\",\n",
    "    \"prices\": {\n",
    "        \"open\": 301.0,\n",
    "        \"close\": 305.7,\n",
    "        \"high\": 307.0,\n",
    "        \"low\": 298.0\n",
    "    },\n",
    "    \"volume\": 23000\n",
    "}\n",
    "\n",
    "crypto_tokens[2]['transaction_history'].append(new_transaction)\n",
    "\n",
    "print(crypto_tokens[2]['transaction_history'])\n"
   ]
  },
  {
   "cell_type": "code",
   "execution_count": 212,
   "id": "934a2668",
   "metadata": {},
   "outputs": [
    {
     "name": "stdout",
     "output_type": "stream",
     "text": [
      "['Binance Smart Chain']\n"
     ]
    }
   ],
   "source": [
    "\n",
    "# Q8: Delete an Item from a List Inside a Dictionary  \n",
    "# Task: Remove \"Avalanche\" from the supported chains of \"Token B\".\n",
    "\n",
    "crypto_tokens[1]['supported_chains'].pop(1)\n",
    "\n",
    "print(crypto_tokens[1]['supported_chains'])"
   ]
  },
  {
   "cell_type": "markdown",
   "id": "e469a9f4",
   "metadata": {},
   "source": [
    "# Problem 2: Crypto Investment Portfolio\n",
    "This data structure represents a crypto investment portfolio, including various assets like tokens, stablecoins, and NFTs, along with their holdings and performance metrics.\n"
   ]
  },
  {
   "cell_type": "code",
   "execution_count": 228,
   "id": "b7cee445",
   "metadata": {},
   "outputs": [],
   "source": [
    "crypto_portfolio = {\n",
    "    \"investor_name\": \"Jane Doe\",\n",
    "    \"portfolio_id\": \"JD1234\",\n",
    "    \"assets\": {\n",
    "        \"tokens\": [\n",
    "            {\n",
    "                \"ticker\": \"ETH\",\n",
    "                \"quantity\": 50,\n",
    "                \"purchase_price\": 2000.00,\n",
    "                \"current_price\": 2100.00\n",
    "            },\n",
    "            {\n",
    "                \"ticker\": \"BTC\",\n",
    "                \"quantity\": 30,\n",
    "                \"purchase_price\": 40000.00,\n",
    "                \"current_price\": 41000.00\n",
    "            }\n",
    "        ],\n",
    "        \"stablecoins\": [\n",
    "            {\n",
    "                \"identifier\": \"USDC\",\n",
    "                \"quantity\": 10000,\n",
    "                \"purchase_price\": 1.00,\n",
    "                \"current_price\": 1.00,\n",
    "                \"peg_currency\": \"USD\"\n",
    "            }\n",
    "        ],\n",
    "        \"nfts\": [\n",
    "            {\n",
    "                \"name\": \"CryptoArt 123\",\n",
    "                \"quantity\": 1,\n",
    "                \"purchase_price\": 5000.00,\n",
    "                \"current_price\": 5500.00\n",
    "            }\n",
    "        ]\n",
    "    },\n",
    "    \"cash_holdings_usd\": 10000.00,\n",
    "    \"investment_goals\": {\"retirement\": 2035, \"education\": 2025}\n",
    "}\n"
   ]
  },
  {
   "cell_type": "markdown",
   "id": "a1f399c5",
   "metadata": {},
   "source": [
    "## Solution"
   ]
  },
  {
   "cell_type": "code",
   "execution_count": 112,
   "id": "1cdf1bb9",
   "metadata": {},
   "outputs": [
    {
     "name": "stdout",
     "output_type": "stream",
     "text": [
      "5500.0\n"
     ]
    }
   ],
   "source": [
    "# Q1: Read Data  \n",
    "# Task: Display the current price of the NFT \"CryptoArt 123\".\n",
    "print(crypto_portfolio['assets']['nfts'][0]['current_price'])"
   ]
  },
  {
   "cell_type": "code",
   "execution_count": 115,
   "id": "b7fa2302",
   "metadata": {},
   "outputs": [
    {
     "name": "stdout",
     "output_type": "stream",
     "text": [
      "{'tokens': [{'ticker': 'ETH', 'quantity': 50, 'purchase_price': 2000.0, 'current_price': 2100.0}, {'ticker': 'BTC', 'quantity': 30, 'purchase_price': 40000.0, 'current_price': 41000.0}, {'ticker': 'ADA', 'quantity': 1000, 'purchase_price': 1.5, 'current_price': 1.6}], 'stablecoins': [{'identifier': 'USDC', 'quantity': 10000, 'purchase_price': 1.0, 'current_price': 1.0, 'peg_currency': 'USD'}], 'nfts': [{'name': 'CryptoArt 123', 'quantity': 1, 'purchase_price': 5000.0, 'current_price': 5500.0}]}\n"
     ]
    }
   ],
   "source": [
    "\n",
    "# Q2: Write Data  \n",
    "# Task: Add a new token with ticker \"ADA\", 1000 units, a purchase price of 1.50, and a current price of 1.60 to the tokens in the assets.\n",
    "\n",
    "new_token = {\n",
    "                \"ticker\": \"ADA\",\n",
    "                \"quantity\": 1000,\n",
    "                \"purchase_price\": 1.50,\n",
    "                \"current_price\": 1.60\n",
    "            }\n",
    "\n",
    "crypto_portfolio[\"assets\"][\"tokens\"].append(new_token)\n",
    "\n",
    "print(crypto_portfolio['assets'])\n",
    "        \n"
   ]
  },
  {
   "cell_type": "code",
   "execution_count": 216,
   "id": "ac816536",
   "metadata": {},
   "outputs": [
    {
     "name": "stdout",
     "output_type": "stream",
     "text": [
      "{'ticker': 'ETH', 'quantity': 60, 'purchase_price': 2000.0, 'current_price': 2100.0}\n"
     ]
    }
   ],
   "source": [
    "\n",
    "# Q3: Update Data  \n",
    "# Task: Update the quantity of \"ETH\" token to 60.\n",
    "\n",
    "crypto_portfolio['assets']['tokens'][0].update({'quantity': 60})\n",
    "\n",
    "print(crypto_portfolio['assets']['tokens'][0])\n"
   ]
  },
  {
   "cell_type": "code",
   "execution_count": 229,
   "id": "1e1875a9",
   "metadata": {},
   "outputs": [
    {
     "name": "stdout",
     "output_type": "stream",
     "text": [
      "[]\n"
     ]
    }
   ],
   "source": [
    "\n",
    "# Q4: Delete Data  \n",
    "# Task: Remove the stablecoin with identifier \"USDC\" from the stablecoins in assets.\n",
    "\n",
    "crypto_portfolio['assets']['stablecoins'].pop(0)\n",
    "\n",
    "print(crypto_portfolio['assets']['stablecoins'])"
   ]
  },
  {
   "cell_type": "code",
   "execution_count": null,
   "id": "c628e7ac",
   "metadata": {},
   "outputs": [
    {
     "name": "stdout",
     "output_type": "stream",
     "text": [
      "USD\n"
     ]
    }
   ],
   "source": [
    "# Q5: Read Nested Data  \n",
    "# Task: Display the peg currency of the stablecoin in the portfolio.\n",
    "\n",
    "print(crypto_portfolio['assets']['stablecoins'][0]['peg_currency'])\n"
   ]
  },
  {
   "cell_type": "code",
   "execution_count": null,
   "id": "fac7f572",
   "metadata": {},
   "outputs": [
    {
     "name": "stdout",
     "output_type": "stream",
     "text": [
      "41500.0\n"
     ]
    }
   ],
   "source": [
    "# Q6: Update Nested Data  \n",
    "# Task: Change the current price of \"BTC\" token to 41500.00.\n",
    "\n",
    "crypto_portfolio['assets']['tokens'][1].update({'current_price' : 41500.00})\n",
    "print(crypto_portfolio['assets']['tokens'][1]['current_price'])\n"
   ]
  },
  {
   "cell_type": "code",
   "execution_count": 169,
   "id": "7b36897e",
   "metadata": {},
   "outputs": [
    {
     "name": "stdout",
     "output_type": "stream",
     "text": [
      "{'retirement': 2035, 'education': 2025, 'vacation': 2028}\n"
     ]
    }
   ],
   "source": [
    "\n",
    "# Q7: Add Nested Data  \n",
    "# Task: Add a new goal \"vacation\" set for the year 2028 in the investment goals.\n",
    "crypto_portfolio[\"investment_goals\"][\"vacation\"] = 2028\n",
    "print(crypto_portfolio['investment_goals'])"
   ]
  },
  {
   "cell_type": "code",
   "execution_count": 231,
   "id": "9616bfe4",
   "metadata": {},
   "outputs": [
    {
     "data": {
      "text/plain": [
       "{'name': 'CryptoArt 123',\n",
       " 'quantity': 1,\n",
       " 'purchase_price': 5000.0,\n",
       " 'current_price': 5500.0}"
      ]
     },
     "execution_count": 231,
     "metadata": {},
     "output_type": "execute_result"
    }
   ],
   "source": [
    "# Q8: Delete an Item from a List Inside a Dictionary  \n",
    "# Task: Remove the NFT \"CryptoArt 123\" from the portfolio.\n",
    "crypto_portfolio['assets']['nfts'].pop(0)\n",
    "\n",
    "# crypto_portfolio['assets']['nfts']"
   ]
  },
  {
   "cell_type": "markdown",
   "id": "e89f852c",
   "metadata": {},
   "source": [
    "# Problem 3: Blockchain Market Analysis\n",
    "This data structure represents an analysis of blockchain ecosystems, including protocols and their token performance.\n"
   ]
  },
  {
   "cell_type": "code",
   "execution_count": 1,
   "id": "6e61407c",
   "metadata": {},
   "outputs": [],
   "source": [
    "blockchain_analysis = {\n",
    "    \"ecosystems\": {\n",
    "        \"DeFi\": {\n",
    "            \"protocols\": [\n",
    "                {\"name\": \"Protocol A\", \"ticker\": \"PDA\", \"price_change\": 5.2},\n",
    "                {\"name\": \"Protocol B\", \"ticker\": \"PDB\", \"price_change\": -3.1}\n",
    "            ]\n",
    "        },\n",
    "        \"NFTs\": {\n",
    "            \"protocols\": [\n",
    "                {\"name\": \"NFT Market A\", \"ticker\": \"NMA\", \"price_change\": 4.0},\n",
    "                {\"name\": \"NFT Market B\", \"ticker\": \"NMB\", \"price_change\": 2.5}\n",
    "            ]\n",
    "        }\n",
    "    },\n",
    "    \"market_performance\": {\n",
    "        \"Crypto Index\": {\"change\": 1.5},\n",
    "        \"DeFi Index\": {\"change\": 2.3},\n",
    "        \"NFT Index\": {\"change\": -1.2}\n",
    "    },\n",
    "    \"notable_events\": [\n",
    "        (\"2024-01-10\", \"Network Upgrade\", \"Ethereum completes sharding upgrade\"),\n",
    "        (\"2024-01-15\", \"Token Launch\", \"Protocol A launches governance token\")\n",
    "    ]\n",
    "}\n"
   ]
  },
  {
   "cell_type": "markdown",
   "id": "8a1c2784",
   "metadata": {},
   "source": [
    "## Solution"
   ]
  },
  {
   "cell_type": "code",
   "execution_count": 7,
   "id": "46428ea8",
   "metadata": {},
   "outputs": [
    {
     "name": "stdout",
     "output_type": "stream",
     "text": [
      "2.5\n"
     ]
    }
   ],
   "source": [
    "# Q1: Read Data  \n",
    "# Task: Display the price change of \"NFT Market B\".\n",
    "print(blockchain_analysis['ecosystems']['NFTs']['protocols'][1]['price_change'])"
   ]
  },
  {
   "cell_type": "code",
   "execution_count": 10,
   "id": "e7de76d2",
   "metadata": {},
   "outputs": [
    {
     "name": "stdout",
     "output_type": "stream",
     "text": [
      "{'name': 'Layer 2 Protocol A', 'ticker': 'L2A', 'price_change': -2.0}\n"
     ]
    }
   ],
   "source": [
    "\n",
    "# Q2: Write Data  \n",
    "# Task: Add a new ecosystem \"Layer 2\" with one protocol \"Layer 2 Protocol A\" having a ticker \"L2A\" and a price change of -2.0.\n",
    "\n",
    "blockchain_analysis['ecosystems']['Layer 2'] = {\n",
    "    'name': 'Layer 2 Protocol A', 'ticker': 'L2A', 'price_change': -2.0\n",
    "}\n",
    "print(blockchain_analysis['ecosystems']['Layer 2'])"
   ]
  },
  {
   "cell_type": "code",
   "execution_count": 16,
   "id": "431d64f4",
   "metadata": {},
   "outputs": [
    {
     "name": "stdout",
     "output_type": "stream",
     "text": [
      "{'name': 'Protocol A', 'ticker': 'PDA', 'price_change': 6.0}\n"
     ]
    }
   ],
   "source": [
    "\n",
    "# Q3: Update Data  \n",
    "# Task: Update the price change of \"Protocol A\" to 6.0.\n",
    "blockchain_analysis['ecosystems']['DeFi']['protocols'][0].update({'price_change': 6.0})\n",
    "print(blockchain_analysis['ecosystems']['DeFi']['protocols'][0])"
   ]
  },
  {
   "cell_type": "code",
   "execution_count": 22,
   "id": "ff968bef",
   "metadata": {},
   "outputs": [
    {
     "data": {
      "text/plain": [
       "{'change': -1.2}"
      ]
     },
     "execution_count": 22,
     "metadata": {},
     "output_type": "execute_result"
    }
   ],
   "source": [
    "\n",
    "# Q4: Delete Data  \n",
    "# Task: Remove the \"NFT Index\" from market_performance.\n",
    "blockchain_analysis['market_performance'].pop('NFT Index')"
   ]
  },
  {
   "cell_type": "code",
   "execution_count": 28,
   "id": "c279c873",
   "metadata": {},
   "outputs": [
    {
     "name": "stdout",
     "output_type": "stream",
     "text": [
      "2.3\n"
     ]
    }
   ],
   "source": [
    "\n",
    "# Q5: Read Nested Data  \n",
    "# Task: Display the change in \"DeFi Index\" performance.\n",
    "\n",
    "print(blockchain_analysis['market_performance']['DeFi Index']['change'])\n"
   ]
  },
  {
   "cell_type": "code",
   "execution_count": 34,
   "id": "4c008650",
   "metadata": {},
   "outputs": [
    {
     "name": "stdout",
     "output_type": "stream",
     "text": [
      "{'name': 'NFT Market Alpha', 'ticker': 'NMA', 'price_change': 4.0}\n"
     ]
    }
   ],
   "source": [
    "\n",
    "# Q6: Update Nested Data  \n",
    "# Task: Change the name of \"NFT Market A\" to \"NFT Market Alpha\".\n",
    "\n",
    "blockchain_analysis['ecosystems']['NFTs']['protocols'][0].update({'name': 'NFT Market Alpha'})\n",
    "print(blockchain_analysis['ecosystems']['NFTs']['protocols'][0])"
   ]
  },
  {
   "cell_type": "code",
   "execution_count": 60,
   "id": "d478ffb3",
   "metadata": {},
   "outputs": [
    {
     "data": {
      "text/plain": [
       "[('2024-01-10', 'Network Upgrade', 'Ethereum completes sharding upgrade'),\n",
       " ('2024-01-15', 'Token Launch', 'Protocol A launches governance token'),\n",
       " ('2024-01-20', 'Partnership', 'Protocol B partners with major blockchain')]"
      ]
     },
     "execution_count": 60,
     "metadata": {},
     "output_type": "execute_result"
    }
   ],
   "source": [
    "\n",
    "# Q7: Add Nested Data  \n",
    "# Task: Add a new notable event on \"2024-01-20\" stating \"Partnership\", with the description \"Protocol B partners with major blockchain\".\n",
    "\n",
    "blockchain_analysis['notable_events'].append(\n",
    "    ('2024-01-20', 'Partnership','Protocol B partners with major blockchain')\n",
    ")\n",
    "blockchain_analysis['notable_events']"
   ]
  },
  {
   "cell_type": "code",
   "execution_count": 61,
   "id": "7eb7a817",
   "metadata": {},
   "outputs": [
    {
     "data": {
      "text/plain": [
       "('2024-01-10', 'Network Upgrade', 'Ethereum completes sharding upgrade')"
      ]
     },
     "execution_count": 61,
     "metadata": {},
     "output_type": "execute_result"
    }
   ],
   "source": [
    "\n",
    "# Q8: Delete an Item from a List Inside a Dictionary  \n",
    "# Task: Remove the first notable event from the list.\n",
    "\n",
    "blockchain_analysis['notable_events'].pop(0)\n"
   ]
  },
  {
   "cell_type": "markdown",
   "id": "b48b1def",
   "metadata": {},
   "source": [
    "# Problem 4: Cryptocurrency Exchange Rates\n",
    "This data structure tracks cryptocurrency exchange rates relative to a base stablecoin.\n",
    "\n"
   ]
  },
  {
   "cell_type": "code",
   "execution_count": 89,
   "id": "f0bd740e",
   "metadata": {},
   "outputs": [],
   "source": [
    "crypto_exchange = {\n",
    "    \"base_currency\": \"USDT\",\n",
    "    \"exchange_rates\": {\n",
    "        \"ETH\": {\n",
    "            \"current_rate\": 0.0005,\n",
    "            \"historical_rates\": [\n",
    "                {\"date\": \"2024-01-10\", \"rate\": 0.00048},\n",
    "                {\"date\": \"2024-01-09\", \"rate\": 0.00049}\n",
    "            ]\n",
    "        },\n",
    "        \"BTC\": {\n",
    "            \"current_rate\": 0.000025,\n",
    "            \"historical_rates\": [\n",
    "                {\"date\": \"2024-01-10\", \"rate\": 0.000024},\n",
    "                {\"date\": \"2024-01-09\", \"rate\": 0.000026}\n",
    "            ]\n",
    "        }\n",
    "    }\n",
    "}\n"
   ]
  },
  {
   "cell_type": "markdown",
   "id": "fc6b433a",
   "metadata": {},
   "source": [
    "## Solution"
   ]
  },
  {
   "cell_type": "code",
   "execution_count": 67,
   "id": "b4d9764f",
   "metadata": {},
   "outputs": [
    {
     "name": "stdout",
     "output_type": "stream",
     "text": [
      "0.0005\n"
     ]
    }
   ],
   "source": [
    "# Q1: Read Data  \n",
    "# Task: Display the current exchange rate for ETH.\n",
    "print(crypto_exchange['exchange_rates']['ETH']['current_rate'])"
   ]
  },
  {
   "cell_type": "code",
   "execution_count": null,
   "id": "77ae6cdf",
   "metadata": {},
   "outputs": [
    {
     "name": "stdout",
     "output_type": "stream",
     "text": [
      "{'ETH': {'current_rate': 0.0005, 'historical_rates': [{'date': '2024-01-10', 'rate': 0.00048}, {'date': '2024-01-09', 'rate': 0.00049}]}, 'BTC': {'current_rate': 2.5e-05, 'historical_rates': [{'date': '2024-01-10', 'rate': 2.4e-05}, {'date': '2024-01-09', 'rate': 2.6e-05}]}, 'ADA': {'current_rate': 0.0015, 'hystorical_rates': [{'date': '2024-01-10', 'rate': 0.0016}, {'date': '2024-01-09', 'rate': 0.0017}]}}\n"
     ]
    }
   ],
   "source": [
    "\n",
    "# Q2: Write Data  \n",
    "# Task: Add a new currency \"ADA\" with a current rate of 0.0015 and two historical rates: 0.0016 on \"2024-01-10\" and 0.0017 on \"2024-01-09\".\n",
    "new_currency = {\n",
    "    'current_rate': 0.0015, \n",
    "        'hystorical_rates': [\n",
    "            {'date': '2024-01-10', 'rate': 0.0016},\n",
    "            {'date': '2024-01-09', 'rate': 0.0017}\n",
    "        ]\n",
    "    }\n",
    "\n",
    "crypto_exchange['exchange_rates']['ADA'] = new_currency\n",
    "\n",
    "print(crypto_exchange['exchange_rates'])"
   ]
  },
  {
   "cell_type": "code",
   "execution_count": 79,
   "id": "0c021830",
   "metadata": {},
   "outputs": [
    {
     "name": "stdout",
     "output_type": "stream",
     "text": [
      "{'current_rate': 2.7e-05, 'historical_rates': [{'date': '2024-01-10', 'rate': 2.4e-05}, {'date': '2024-01-09', 'rate': 2.6e-05}]}\n"
     ]
    }
   ],
   "source": [
    "# Q3: Update Data  \n",
    "# Task: Update the current exchange rate of BTC to 0.000027.\n",
    "crypto_exchange['exchange_rates']['BTC'].update({'current_rate': 0.000027})\n",
    "print(crypto_exchange['exchange_rates']['BTC'])\n",
    "\n"
   ]
  },
  {
   "cell_type": "code",
   "execution_count": 83,
   "id": "19e3a501",
   "metadata": {},
   "outputs": [
    {
     "name": "stdout",
     "output_type": "stream",
     "text": [
      "{'current_rate': 0.0005}\n"
     ]
    }
   ],
   "source": [
    "\n",
    "# Q4: Delete Data  \n",
    "# Task: Remove the historical rates for ETH.\n",
    "crypto_exchange['exchange_rates']['ETH'].pop('historical_rates')\n",
    "print(crypto_exchange['exchange_rates']['ETH'])\n"
   ]
  },
  {
   "cell_type": "code",
   "execution_count": 86,
   "id": "e05ec78a",
   "metadata": {},
   "outputs": [
    {
     "data": {
      "text/plain": [
       "2.4e-05"
      ]
     },
     "execution_count": 86,
     "metadata": {},
     "output_type": "execute_result"
    }
   ],
   "source": [
    "# Q5: Read Nested Data  \n",
    "# Task: Display the exchange rate of BTC on \"2024-01-10\".\n",
    "crypto_exchange['exchange_rates']['BTC']['historical_rates'][0]['rate']"
   ]
  },
  {
   "cell_type": "code",
   "execution_count": 95,
   "id": "45bbfa27",
   "metadata": {},
   "outputs": [
    {
     "name": "stdout",
     "output_type": "stream",
     "text": [
      "[{'date': '2024-01-10', 'rate': 0.00047}, {'date': '2024-01-09', 'rate': 0.00049}]\n"
     ]
    }
   ],
   "source": [
    "\n",
    "# Q6: Update Nested Data  \n",
    "# Task: Change the rate of ETH on \"2024-01-10\" to 0.00047.\n",
    "crypto_exchange['exchange_rates']['ETH']['historical_rates'][0].update({'rate': 0.00047})\n",
    "print(crypto_exchange['exchange_rates']['ETH']['historical_rates'])"
   ]
  },
  {
   "cell_type": "code",
   "execution_count": 98,
   "id": "50faef0d",
   "metadata": {},
   "outputs": [
    {
     "name": "stdout",
     "output_type": "stream",
     "text": [
      "[{'date': '2024-01-10', 'rate': 2.4e-05}, {'date': '2024-01-09', 'rate': 2.6e-05}, {'date': '2024-01-11', 'rate': 2.3e-05}]\n"
     ]
    }
   ],
   "source": [
    "\n",
    "# Q7: Add Nested Data  \n",
    "# Task: Add a new historical rate for BTC on \"2024-01-11\" with a rate of 0.000023.\n",
    "crypto_exchange['exchange_rates']['BTC']['historical_rates'].insert(2,{'date': '2024-01-11', 'rate': 0.000023})\n",
    "print(crypto_exchange['exchange_rates']['BTC']['historical_rates'])"
   ]
  },
  {
   "cell_type": "code",
   "execution_count": 101,
   "id": "130c43b4",
   "metadata": {},
   "outputs": [
    {
     "data": {
      "text/plain": [
       "{'date': '2024-01-09', 'rate': 2.6e-05}"
      ]
     },
     "execution_count": 101,
     "metadata": {},
     "output_type": "execute_result"
    }
   ],
   "source": [
    "\n",
    "# Q8: Delete an Item from a List Inside a Dictionary  \n",
    "# Task: Remove the historical rate of BTC on \"2024-01-09\".\n",
    "crypto_exchange['exchange_rates']['BTC']['historical_rates'].pop(1)"
   ]
  },
  {
   "cell_type": "markdown",
   "id": "fbdb79e8",
   "metadata": {},
   "source": [
    "# Problem 5: Crypto Credit Risk Assessment\n",
    "This data structure assesses the credit risk of individuals based on their crypto-related financial profiles.\n"
   ]
  },
  {
   "cell_type": "code",
   "execution_count": 150,
   "id": "b120e124",
   "metadata": {},
   "outputs": [],
   "source": [
    "crypto_risk_profiles = {\n",
    "    \"individuals\": [\n",
    "        {\n",
    "            \"name\": \"John Doe\",\n",
    "            \"defi_score\": 750,\n",
    "            \"staked_assets\": {\n",
    "                \"eth_staking\": {\"amount\": 10, \"apy\": 3.5},\n",
    "                \"dot_staking\": {\"amount\": 1000, \"apy\": 2.8}\n",
    "            },\n",
    "            \"transaction_history\": [(\"2024-01-10\", \"Confirmed\"), (\"2024-01-01\", \"Delayed\")]\n",
    "        },\n",
    "        {\n",
    "            \"name\": \"Jane Smith\",\n",
    "            \"defi_score\": 680,\n",
    "            \"staked_assets\": {\n",
    "                \"usdc_lending\": {\"amount\": 5000, \"apy\": 5.0}\n",
    "            },\n",
    "            \"transaction_history\": [(\"2024-01-10\", \"Confirmed\")]\n",
    "        }\n",
    "    ]\n",
    "}\n"
   ]
  },
  {
   "cell_type": "code",
   "execution_count": 106,
   "id": "b02dfae1",
   "metadata": {},
   "outputs": [
    {
     "data": {
      "text/plain": [
       "2.8"
      ]
     },
     "execution_count": 106,
     "metadata": {},
     "output_type": "execute_result"
    }
   ],
   "source": [
    "# Q1: Read Data  \n",
    "# Task: Display the APY for John Doe's DOT staking.\n",
    "crypto_risk_profiles['individuals'][0]['staked_assets']['dot_staking']['apy']"
   ]
  },
  {
   "cell_type": "code",
   "execution_count": 112,
   "id": "fffad11e",
   "metadata": {},
   "outputs": [
    {
     "name": "stdout",
     "output_type": "stream",
     "text": [
      "[{'name': 'John Doe', 'defi_score': 750, 'staked_assets': {'eth_staking': {'amount': 10, 'apy': 3.5}, 'dot_staking': {'amount': 1000, 'apy': 2.8}}, 'transaction_history': [('2024-01-10', 'Confirmed'), ('2024-01-01', 'Delayed')]}, {'name': 'Jane Smith', 'defi_score': 680, 'staked_assets': {'usdc_lending': {'amount': 5000, 'apy': 5.0}}, 'transaction_history': [('2024-01-10', 'Confirmed')]}, {'name': 'Alice Johnson', 'defi_score': 720, 'staked_assets': {}, 'transaction_history': {}}]\n"
     ]
    }
   ],
   "source": [
    "\n",
    "# Q2: Write Data  \n",
    "# Task: Add a new individual \"Alice Johnson\" with a DeFi score of 720, no staked assets, and no transaction history.\n",
    "crypto_risk_profiles['individuals'].insert(4,\n",
    "    {'name': 'Alice Johnson', 'defi_score': 720, 'staked_assets': {}, 'transaction_history': {}}\n",
    ")\n",
    "print(crypto_risk_profiles['individuals'])"
   ]
  },
  {
   "cell_type": "code",
   "execution_count": 118,
   "id": "280bb7d3",
   "metadata": {},
   "outputs": [
    {
     "name": "stdout",
     "output_type": "stream",
     "text": [
      "{'name': 'Jane Smith', 'defi_score': 700, 'staked_assets': {'usdc_lending': {'amount': 5000, 'apy': 5.0}}, 'transaction_history': [('2024-01-10', 'Confirmed')]}\n"
     ]
    }
   ],
   "source": [
    "# Q3: Update Data  \n",
    "# Task: Update Jane Smith's DeFi score to 700.\n",
    "crypto_risk_profiles['individuals'][1].update({'defi_score': 700})\n",
    "print(crypto_risk_profiles['individuals'][1])"
   ]
  },
  {
   "cell_type": "code",
   "execution_count": 125,
   "id": "f6150d30",
   "metadata": {},
   "outputs": [
    {
     "name": "stdout",
     "output_type": "stream",
     "text": [
      "{'dot_staking': {'amount': 1000, 'apy': 2.8}}\n"
     ]
    }
   ],
   "source": [
    "\n",
    "# Q4: Delete Data  \n",
    "# Task: Remove the ETH staking entry from John Doe's staked assets.\n",
    "crypto_risk_profiles['individuals'][0]['staked_assets'].pop('eth_staking')\n",
    "print(crypto_risk_profiles['individuals'][0]['staked_assets'])"
   ]
  },
  {
   "cell_type": "code",
   "execution_count": 134,
   "id": "5ee2037c",
   "metadata": {},
   "outputs": [
    {
     "data": {
      "text/plain": [
       "('2024-01-10', 'Confirmed')"
      ]
     },
     "execution_count": 134,
     "metadata": {},
     "output_type": "execute_result"
    }
   ],
   "source": [
    "\n",
    "# Q5: Read Nested Data  \n",
    "# Task: Display the latest transaction status of John Doe.\n",
    "crypto_risk_profiles['individuals'][0]['transaction_history'][0]"
   ]
  },
  {
   "cell_type": "code",
   "execution_count": 140,
   "id": "1b7c382f",
   "metadata": {},
   "outputs": [
    {
     "name": "stdout",
     "output_type": "stream",
     "text": [
      "{'amount': 5500, 'apy': 5.0}\n"
     ]
    }
   ],
   "source": [
    "\n",
    "# Q6: Update Nested Data  \n",
    "# Task: Change the amount of Jane Smith's USDC lending to 5500.\n",
    "crypto_risk_profiles['individuals'][1]['staked_assets']['usdc_lending'].update({'amount': 5500})\n",
    "print(crypto_risk_profiles['individuals'][1]['staked_assets']['usdc_lending'])"
   ]
  },
  {
   "cell_type": "code",
   "execution_count": 145,
   "id": "16c33351",
   "metadata": {},
   "outputs": [
    {
     "name": "stdout",
     "output_type": "stream",
     "text": [
      "[('2024-01-10', 'Confirmed'), ('2024-01-01', 'Delayed'), ('2024-01-15', 'Confirmed')]\n"
     ]
    }
   ],
   "source": [
    "\n",
    "# Q7: Add Nested Data  \n",
    "# Task: Add a new transaction history entry for John Doe on \"2024-01-15\" marked as \"Confirmed\".\n",
    "crypto_risk_profiles['individuals'][0]['transaction_history'].insert(2, ('2024-01-15', 'Confirmed'))\n",
    "print(crypto_risk_profiles['individuals'][0]['transaction_history'])"
   ]
  },
  {
   "cell_type": "code",
   "execution_count": 156,
   "id": "9b24f952",
   "metadata": {},
   "outputs": [
    {
     "data": {
      "text/plain": [
       "('2024-01-10', 'Confirmed')"
      ]
     },
     "execution_count": 156,
     "metadata": {},
     "output_type": "execute_result"
    }
   ],
   "source": [
    "\n",
    "# Q8: Delete an Item from a List Inside a Dictionary  \n",
    "# Task: Remove the first transaction history entry of Jane Smith.\n",
    "crypto_risk_profiles['individuals'][1]['transaction_history'].pop(0)"
   ]
  },
  {
   "cell_type": "markdown",
   "id": "b4156600",
   "metadata": {},
   "source": [
    "# Problem 6: Crypto Hedge Fund Portfolio\n",
    "This data structure represents a crypto hedge fund’s investment portfolio, detailing various types of crypto investments and their performance.\n"
   ]
  },
  {
   "cell_type": "code",
   "execution_count": 157,
   "id": "b301289d",
   "metadata": {},
   "outputs": [],
   "source": [
    "crypto_hedge_fund = {\n",
    "    \"fund_name\": \"Alpha Crypto Investments\",\n",
    "    \"portfolio_value_usd\": 50000000,\n",
    "    \"investments\": [\n",
    "        {\n",
    "            \"type\": \"Tokens\",\n",
    "            \"holdings\": [\n",
    "                {\"ticker\": \"ETH\", \"quantity\": 10000, \"average_buy_price\": 2000},\n",
    "                {\"ticker\": \"SOL\", \"quantity\": 50000, \"average_buy_price\": 100}\n",
    "            ]\n",
    "        },\n",
    "        {\n",
    "            \"type\": \"Stablecoins\",\n",
    "            \"holdings\": [\n",
    "                {\"coin\": \"USDT\", \"amount\": 10000000, \"apy\": 1.5}\n",
    "            ]\n",
    "        },\n",
    "        {\n",
    "            \"type\": \"Derivatives\",\n",
    "            \"holdings\": [\n",
    "                {\"instrument\": \"Futures\", \"details\": {\"underlying\": \"BTC\", \"type\": \"Perpetual\", \"leverage\": 10}}\n",
    "            ]\n",
    "        }\n",
    "    ],\n",
    "    \"performance_metrics\": {\n",
    "        \"year_to_date_return\": 5.2,\n",
    "        \"five_year_annualized_return\": 7.1\n",
    "    }\n",
    "}\n"
   ]
  },
  {
   "cell_type": "markdown",
   "id": "58c6c76d",
   "metadata": {},
   "source": [
    "## Solution"
   ]
  },
  {
   "cell_type": "code",
   "execution_count": 165,
   "id": "94c98e8b",
   "metadata": {},
   "outputs": [
    {
     "data": {
      "text/plain": [
       "50000"
      ]
     },
     "execution_count": 165,
     "metadata": {},
     "output_type": "execute_result"
    }
   ],
   "source": [
    "# Q1: Read Data  \n",
    "# Task: Display the quantity of \"SOL\" tokens held in the portfolio.\n",
    "crypto_hedge_fund['investments'][0]['holdings'][1]['quantity']"
   ]
  },
  {
   "cell_type": "code",
   "execution_count": 168,
   "id": "8eeacc72",
   "metadata": {},
   "outputs": [
    {
     "data": {
      "text/plain": [
       "[{'type': 'Tokens',\n",
       "  'holdings': [{'ticker': 'ETH', 'quantity': 10000, 'average_buy_price': 2000},\n",
       "   {'ticker': 'SOL', 'quantity': 50000, 'average_buy_price': 100}]},\n",
       " {'type': 'Stablecoins',\n",
       "  'holdings': [{'coin': 'USDT', 'amount': 10000000, 'apy': 1.5}]},\n",
       " {'type': 'Derivatives',\n",
       "  'holdings': [{'instrument': 'Futures',\n",
       "    'details': {'underlying': 'BTC', 'type': 'Perpetual', 'leverage': 10}}]},\n",
       " {'type': 'NFTs',\n",
       "  'holdings': {'ticker': 'CryptoPunk 456', 'quantity': 1, 'value': 2000000}}]"
      ]
     },
     "execution_count": 168,
     "metadata": {},
     "output_type": "execute_result"
    }
   ],
   "source": [
    "\n",
    "# Q2: Write Data  \n",
    "# Task: Add a new investment type \"NFTs\" with one holding of an NFT \"CryptoPunk 456\" valued at 2000000.\n",
    "crypto_hedge_fund['investments'].insert(3,{'type': 'NFTs', \n",
    "                                           'holdings': {'ticker': 'CryptoPunk 456', 'quantity': 1, 'value': 2000000}\n",
    "                                           })\n",
    "crypto_hedge_fund['investments']"
   ]
  },
  {
   "cell_type": "code",
   "execution_count": 170,
   "id": "b03fc705",
   "metadata": {},
   "outputs": [],
   "source": [
    "# Q3: Update Data  \n",
    "# Task: Update the portfolio value to 51000000.\n",
    "crypto_hedge_fund['portfolio_value_usd'] = 51000000"
   ]
  },
  {
   "cell_type": "code",
   "execution_count": 172,
   "id": "b47d06f6",
   "metadata": {},
   "outputs": [
    {
     "data": {
      "text/plain": [
       "{'type': 'Derivatives',\n",
       " 'holdings': [{'instrument': 'Futures',\n",
       "   'details': {'underlying': 'BTC', 'type': 'Perpetual', 'leverage': 10}}]}"
      ]
     },
     "execution_count": 172,
     "metadata": {},
     "output_type": "execute_result"
    }
   ],
   "source": [
    "# Q4: Delete Data  \n",
    "# Task: Remove the \"Derivatives\" investment from the portfolio.\n",
    "crypto_hedge_fund['investments'].pop(2)"
   ]
  },
  {
   "cell_type": "code",
   "execution_count": 179,
   "id": "ac2625f4",
   "metadata": {},
   "outputs": [
    {
     "data": {
      "text/plain": [
       "1.5"
      ]
     },
     "execution_count": 179,
     "metadata": {},
     "output_type": "execute_result"
    }
   ],
   "source": [
    "# Q5: Read Nested Data  \n",
    "# Task: Display the APY of the \"USDT\" stablecoin.\n",
    "crypto_hedge_fund['investments'][1]['holdings'][0]['apy']"
   ]
  },
  {
   "cell_type": "code",
   "execution_count": 185,
   "id": "121a9b10",
   "metadata": {},
   "outputs": [
    {
     "name": "stdout",
     "output_type": "stream",
     "text": [
      "{'ticker': 'ETH', 'quantity': 10000, 'average_buy_price': 2100}\n"
     ]
    }
   ],
   "source": [
    "# Q6: Update Nested Data  \n",
    "# Task: Change the average buy price of \"ETH\" tokens to 2100.\n",
    "crypto_hedge_fund['investments'][0]['holdings'][0].update({'average_buy_price': 2100})\n",
    "print(crypto_hedge_fund['investments'][0]['holdings'][0])"
   ]
  },
  {
   "cell_type": "code",
   "execution_count": null,
   "id": "2cb168a1",
   "metadata": {},
   "outputs": [
    {
     "data": {
      "text/plain": [
       "[{'ticker': 'ETH', 'quantity': 10000, 'average_buy_price': 2100},\n",
       " {'ticker': 'SOL', 'quantity': 50000, 'average_buy_price': 100},\n",
       " {'ticker': 'ADA', 'quantity': 100000, 'average_buy_price': 1.5}]"
      ]
     },
     "execution_count": 189,
     "metadata": {},
     "output_type": "execute_result"
    }
   ],
   "source": [
    "# Q7: Add Nested Data  \n",
    "# Task: Add a new token holding for \"ADA\" with a quantity of 100000 and an average buy price of 1.5.\n",
    "crypto_hedge_fund['investments'][0]['holdings'].insert(2, \n",
    "                    {'ticker': 'ADA', 'quantity': 100000, 'average_buy_price': 1.5})\n",
    "\n",
    "crypto_hedge_fund['investments'][0]['holdings']"
   ]
  },
  {
   "cell_type": "code",
   "execution_count": 193,
   "id": "079b1a83",
   "metadata": {},
   "outputs": [
    {
     "name": "stdout",
     "output_type": "stream",
     "text": [
      "[{'ticker': 'SOL', 'quantity': 50000, 'average_buy_price': 100}, {'ticker': 'ADA', 'quantity': 100000, 'average_buy_price': 1.5}]\n"
     ]
    }
   ],
   "source": [
    "# Q8: Delete an Item from a List Inside a Dictionary  \n",
    "# Task: Remove the first holding (ETH) under the \"Tokens\" type.\n",
    "crypto_hedge_fund['investments'][0]['holdings'].pop(0)\n",
    "print(crypto_hedge_fund['investments'][0]['holdings'])"
   ]
  }
 ],
 "metadata": {
  "kernelspec": {
   "display_name": "problem",
   "language": "python",
   "name": "python3"
  },
  "language_info": {
   "codemirror_mode": {
    "name": "ipython",
    "version": 3
   },
   "file_extension": ".py",
   "mimetype": "text/x-python",
   "name": "python",
   "nbconvert_exporter": "python",
   "pygments_lexer": "ipython3",
   "version": "3.10.7"
  }
 },
 "nbformat": 4,
 "nbformat_minor": 5
}
